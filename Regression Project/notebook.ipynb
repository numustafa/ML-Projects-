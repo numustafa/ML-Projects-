{
  "nbformat": 4,
  "nbformat_minor": 0,
  "metadata": {
    "colab": {
      "provenance": [],
      "authorship_tag": "ABX9TyPYjd3Ymd8y3ww7lvqi3BKm",
      "include_colab_link": true
    },
    "kernelspec": {
      "name": "python3",
      "display_name": "Python 3"
    },
    "language_info": {
      "name": "python"
    }
  },
  "cells": [
    {
      "cell_type": "markdown",
      "metadata": {
        "id": "view-in-github",
        "colab_type": "text"
      },
      "source": [
        "<a href=\"https://colab.research.google.com/github/numustafa/ML-Projects-/blob/main/Regression%20Project/notebook.ipynb\" target=\"_parent\"><img src=\"https://colab.research.google.com/assets/colab-badge.svg\" alt=\"Open In Colab\"/></a>"
      ]
    },
    {
      "cell_type": "markdown",
      "source": [
        "# Linear Regression with Scikit Learn\n",
        "\n",
        "This is a learning project, for refreshing my scikit-learn Regression concepts. This project is part of a fcc course, and includes the following:\n",
        "* Typical problem statement\n",
        "* Exploring Dataset\n",
        "* Apply Linear Regression:\n",
        "  1. with one var\n",
        "  2. with multiple var\n",
        "* Feature Engineering\n"
      ],
      "metadata": {
        "id": "Bk7gE3PABOHi"
      }
    },
    {
      "cell_type": "markdown",
      "source": [
        "## 1. Problem Statement\n",
        "ACME Insurance Inc. offers affordable health insurance to thousands of customer all over the United States. As the lead data scientist at ACME, you're tasked with creating an automated system to estimate the annual medical expenditure for new customers, using information such as their age, sex, BMI, children, smoking habits and region of residence.\n",
        "\n",
        "Estimates from your system will be used to determine the annual insurance premium (amount paid every month) offered to the customer. Due to regulatory requirements, you must be able to explain why your system outputs a certain prediction.\n",
        "\n",
        "You're given a [CSV file](https://raw.githubusercontent.com/JovianML/opendatasets/master/data/medical-charges.csv) containing verified historical data, consisting of the aforementioned information and the actual medical charges incurred by over 1300 customers.\n",
        "\n",
        "\n",
        "> <img src=\"https://i.imgur.com/87Uw0aG.png\" width=\"480\">\n",
        ">\n",
        "> Dataset source: https://github.com/stedy/Machine-Learning-with-R-datasets\n",
        "\n",
        "\n",
        "\n"
      ],
      "metadata": {
        "id": "YGnDIKMMCUuU"
      }
    },
    {
      "cell_type": "code",
      "source": [],
      "metadata": {
        "id": "h09JB3C-CUX8"
      },
      "execution_count": null,
      "outputs": []
    },
    {
      "cell_type": "code",
      "source": [],
      "metadata": {
        "id": "ZO7Ih1NYCTcM"
      },
      "execution_count": null,
      "outputs": []
    },
    {
      "cell_type": "code",
      "execution_count": null,
      "metadata": {
        "id": "B67zziRx_exc"
      },
      "outputs": [],
      "source": []
    }
  ]
}