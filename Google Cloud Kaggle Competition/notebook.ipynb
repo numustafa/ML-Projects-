{
  "nbformat": 4,
  "nbformat_minor": 0,
  "metadata": {
    "colab": {
      "provenance": [],
      "authorship_tag": "ABX9TyPoP2WJ6W7D77ut2fM3xNMN",
      "include_colab_link": true
    },
    "kernelspec": {
      "name": "python3",
      "display_name": "Python 3"
    },
    "language_info": {
      "name": "python"
    }
  },
  "cells": [
    {
      "cell_type": "markdown",
      "metadata": {
        "id": "view-in-github",
        "colab_type": "text"
      },
      "source": [
        "<a href=\"https://colab.research.google.com/github/numustafa/ML-Projects-/blob/main/Google%20Cloud%20Kaggle%20Competition/notebook.ipynb\" target=\"_parent\"><img src=\"https://colab.research.google.com/assets/colab-badge.svg\" alt=\"Open In Colab\"/></a>"
      ]
    },
    {
      "cell_type": "markdown",
      "source": [
        "# End-to-End ML Project\n",
        "In this project, I will be using my skills in Data Analysis and concepts of Machine Learning to develop a predictive model, that predicts the taxi fare for a ride in NYC. I am using a dataset from [Kaggle](https://www.kaggle.com/c/new-york-city-taxi-fare-prediction) by Google Cloud. The project follows the following sequence:\n",
        "1. Download Dataset\n",
        "2. Data Exploration\n",
        "3. Data Modelling\n",
        "4. Model (Hardcoded & baseline) Models\n",
        "5. Generate Predictions\n",
        "6. Feature Engineering\n",
        "7. Train & Evaluate Different Models\n",
        "8. Hyperparameter Tuning\n",
        "9. Train on GPU\n",
        "10. documentation & Publishing\n"
      ],
      "metadata": {
        "id": "gel5WLxVS-8R"
      }
    },
    {
      "cell_type": "markdown",
      "source": [
        "## 1. Dataset\n",
        "* Install necessary Lib\n",
        "* download data from Kaggle\n",
        "* convert data into workable DataFrame"
      ],
      "metadata": {
        "id": "dP5wBpZvUsx2"
      }
    },
    {
      "cell_type": "code",
      "execution_count": null,
      "metadata": {
        "id": "5yXvWIr3S7rW"
      },
      "outputs": [],
      "source": []
    }
  ]
}