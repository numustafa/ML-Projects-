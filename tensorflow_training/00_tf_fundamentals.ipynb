{
  "cells": [
    {
      "cell_type": "markdown",
      "metadata": {
        "id": "xOoU7Iy1VSnR"
      },
      "source": [
        "# fundamentals of tensorflow\n",
        "In this notebook, I will be covering some of the most fundemental concepts of tensors using Tensorflow.\n",
        "\n",
        "Topics to cover:\n",
        "* Introduction to tensors\n",
        "* Getting information from tensors\n",
        "* Manipulating tensors\n",
        "* Tensors & Numpy\n",
        "* Using @tf.function (a way to speed up your regular Python functions)\n",
        "* Using GPUs with TensorFlow (or TPUs)\n",
        "* Exercises to try for yourself!\n",
        "\n",
        "📖 Resources:\n",
        "I will be following [Daniel](https://www.youtube.com/watch?v=tpCFfeUEGs8&t=116s) in terms of workflow. For further concept enhancements, I will be using ChatGPT4 and [Tensorflow documentation](https://www.tensorflow.org/guide)."
      ]
    },
    {
      "cell_type": "markdown",
      "metadata": {
        "id": "GKsqoF9rWpAW"
      },
      "source": [
        "## Introduction to Tensors"
      ]
    },
    {
      "cell_type": "code",
      "execution_count": 1,
      "metadata": {
        "colab": {
          "base_uri": "https://localhost:8080/"
        },
        "id": "zQHEj65hUjZl",
        "outputId": "5b815635-4cc1-4a7d-9635-c0c8f7a065ab"
      },
      "outputs": [
        {
          "name": "stdout",
          "output_type": "stream",
          "text": [
            "2.13.0\n"
          ]
        }
      ],
      "source": [
        "# import tf\n",
        "import tensorflow as tf\n",
        "print(tf.__version__)"
      ]
    },
    {
      "cell_type": "markdown",
      "metadata": {
        "id": "lOHNohpvXCTe"
      },
      "source": [
        "There are quite a few ways to create tensors, however, I am using `tf.constant()` to get familier with the basics of tensors. When we create tensor this way, we get to see the: <br>\n",
        "\n",
        "\n",
        "1.   shape of Tensor\n",
        "2.   Data Type of elements in Tensor\n",
        "3.   numpy value (as numpy and tf are quite inter-related)\n",
        "\n",
        "Altogether its just a learning experience, as tensor becomes larger, it becomes more and more difficult to create tensorsFurther on, we use tf functions to create tensors for us.\n",
        "\n",
        "\n",
        "\n"
      ]
    },
    {
      "cell_type": "code",
      "execution_count": 23,
      "metadata": {
        "colab": {
          "base_uri": "https://localhost:8080/"
        },
        "id": "RWOQIFoJWmlK",
        "outputId": "e1a641ac-d13c-430e-ea85-3f49801e0ed8"
      },
      "outputs": [
        {
          "data": {
            "text/plain": [
              "<tf.Tensor: shape=(), dtype=int32, numpy=7>"
            ]
          },
          "execution_count": 23,
          "metadata": {},
          "output_type": "execute_result"
        }
      ],
      "source": [
        "# create tensors with tf.constant\n",
        "scalar = tf.constant(7)\n",
        "scalar"
      ]
    },
    {
      "cell_type": "code",
      "execution_count": 24,
      "metadata": {
        "colab": {
          "base_uri": "https://localhost:8080/"
        },
        "id": "Z7uAJsnGX0ao",
        "outputId": "1a452e3e-f60f-4db5-fa66-6cc3b3844715"
      },
      "outputs": [
        {
          "data": {
            "text/plain": [
              "0"
            ]
          },
          "execution_count": 24,
          "metadata": {},
          "output_type": "execute_result"
        }
      ],
      "source": [
        "# dimension of tensor\n",
        "scalar.ndim"
      ]
    },
    {
      "cell_type": "code",
      "execution_count": 25,
      "metadata": {
        "colab": {
          "base_uri": "https://localhost:8080/"
        },
        "id": "bvuIof4XaBVb",
        "outputId": "c39023aa-e39d-4bf1-e058-50062de84c83"
      },
      "outputs": [
        {
          "data": {
            "text/plain": [
              "(<tf.Tensor: shape=(2,), dtype=int32, numpy=array([12, 12], dtype=int32)>, 1)"
            ]
          },
          "execution_count": 25,
          "metadata": {},
          "output_type": "execute_result"
        }
      ],
      "source": [
        "# create a vector using tf.constant()\n",
        "vector = tf.constant([12,12])\n",
        "vector, vector.ndim"
      ]
    },
    {
      "cell_type": "code",
      "execution_count": 26,
      "metadata": {
        "colab": {
          "base_uri": "https://localhost:8080/"
        },
        "id": "ZZus8PhfaNd5",
        "outputId": "55bb957c-0e47-4072-818d-1263a90bec6a"
      },
      "outputs": [
        {
          "data": {
            "text/plain": [
              "(<tf.Tensor: shape=(2, 2), dtype=int32, numpy=\n",
              " array([[10,  7],\n",
              "        [ 7, 10]], dtype=int32)>,\n",
              " 2)"
            ]
          },
          "execution_count": 26,
          "metadata": {},
          "output_type": "execute_result"
        }
      ],
      "source": [
        "# create a matrix - with more than one dimesions\n",
        "matrix = tf.constant([[10,7],\n",
        "                      [7,10]])\n",
        "matrix, matrix.ndim"
      ]
    },
    {
      "cell_type": "code",
      "execution_count": 27,
      "metadata": {
        "colab": {
          "base_uri": "https://localhost:8080/"
        },
        "id": "YcfAE9NtaynS",
        "outputId": "16231128-a599-463d-eee7-1e9761fb19d7"
      },
      "outputs": [
        {
          "data": {
            "text/plain": [
              "<tf.Tensor: shape=(3, 2), dtype=float16, numpy=\n",
              "array([[10.,  7.],\n",
              "       [ 3.,  2.],\n",
              "       [ 8.,  9.]], dtype=float16)>"
            ]
          },
          "execution_count": 27,
          "metadata": {},
          "output_type": "execute_result"
        }
      ],
      "source": [
        "# create another matrix, with datatype\n",
        "another_matrix = tf.constant([[10.,7.],\n",
        "                      [3.,2.],\n",
        "                      [8.,9.]], dtype=tf.float16) # the higher the no, the more space (being exact) it takes. so float16 will take less space than float32.\n",
        "another_matrix"
      ]
    },
    {
      "cell_type": "code",
      "execution_count": 28,
      "metadata": {
        "colab": {
          "base_uri": "https://localhost:8080/"
        },
        "id": "Gn7I_5nncRSC",
        "outputId": "d2247d72-ef8d-45d2-e3bd-2dca932dd668"
      },
      "outputs": [
        {
          "data": {
            "text/plain": [
              "2"
            ]
          },
          "execution_count": 28,
          "metadata": {},
          "output_type": "execute_result"
        }
      ],
      "source": [
        "another_matrix.ndim"
      ]
    },
    {
      "cell_type": "markdown",
      "metadata": {
        "id": "H7c7sN3scn1N"
      },
      "source": [
        "The dimension is different than shape. So we can say dimension is the no of element in the shape... as if *now*"
      ]
    },
    {
      "cell_type": "code",
      "execution_count": 29,
      "metadata": {
        "colab": {
          "base_uri": "https://localhost:8080/"
        },
        "id": "Hp2qyoM5chT5",
        "outputId": "ec27072f-40db-4984-d1aa-d8f259077e3d"
      },
      "outputs": [
        {
          "data": {
            "text/plain": [
              "<tf.Tensor: shape=(3, 2, 3), dtype=int32, numpy=\n",
              "array([[[ 1,  2,  3],\n",
              "        [ 4,  5,  6]],\n",
              "\n",
              "       [[ 7,  8,  9],\n",
              "        [10, 11, 12]],\n",
              "\n",
              "       [[13, 14, 15],\n",
              "        [16, 17, 18]]], dtype=int32)>"
            ]
          },
          "execution_count": 29,
          "metadata": {},
          "output_type": "execute_result"
        }
      ],
      "source": [
        "# create a tensor\n",
        "tensor = tf.constant([[[1,2,3],\n",
        "                       [4,5,6]],\n",
        "                      [[7,8,9],\n",
        "                       [10,11,12]],\n",
        "                      [[13,14,15],\n",
        "                       [16,17,18]]])\n",
        "tensor"
      ]
    },
    {
      "cell_type": "code",
      "execution_count": 30,
      "metadata": {
        "colab": {
          "base_uri": "https://localhost:8080/"
        },
        "id": "2VKSoEPJeR66",
        "outputId": "0ff596ee-2e93-4e93-d422-db1781eb845e"
      },
      "outputs": [
        {
          "data": {
            "text/plain": [
              "3"
            ]
          },
          "execution_count": 30,
          "metadata": {},
          "output_type": "execute_result"
        }
      ],
      "source": [
        "tensor.ndim   # no of elements in a shape"
      ]
    },
    {
      "cell_type": "markdown",
      "metadata": {
        "id": "4qtDWx9depWK"
      },
      "source": [
        "What we have created so far:\n",
        "\n",
        "\n",
        "1.   A **scalar** is a single no\n",
        "2.   A **vector** is a no with a direction\n",
        "3. A **Matrix** is a 2D array of no\n",
        "4. A **Tensor** is an n-dim array of nos. (n can be any int from 0- infinity)\n",
        "\n"
      ]
    },
    {
      "cell_type": "markdown",
      "metadata": {
        "id": "U2PwrlAp6vBo"
      },
      "source": [
        "### creatinf tensor through **variable**"
      ]
    },
    {
      "cell_type": "code",
      "execution_count": 31,
      "metadata": {
        "colab": {
          "base_uri": "https://localhost:8080/"
        },
        "id": "DxgUOe4ueWrB",
        "outputId": "b81a9e85-d8ad-4eb3-a530-193bc85378e6"
      },
      "outputs": [
        {
          "data": {
            "text/plain": [
              "(<tf.Variable 'Variable:0' shape=(2,) dtype=int32, numpy=array([10,  7], dtype=int32)>,\n",
              " <tf.Tensor: shape=(2,), dtype=int32, numpy=array([10,  7], dtype=int32)>)"
            ]
          },
          "execution_count": 31,
          "metadata": {},
          "output_type": "execute_result"
        }
      ],
      "source": [
        "changable_tensor = tf.Variable([10,7])\n",
        "unchangable_tensor = tf.constant([10,7])\n",
        "changable_tensor, unchangable_tensor\n"
      ]
    },
    {
      "cell_type": "code",
      "execution_count": 32,
      "metadata": {
        "colab": {
          "base_uri": "https://localhost:8080/",
          "height": 227
        },
        "id": "2pi6T2U_7MpQ",
        "outputId": "3557fc81-8521-4a3c-aadf-9c1f7962933a"
      },
      "outputs": [
        {
          "ename": "TypeError",
          "evalue": "ignored",
          "output_type": "error",
          "traceback": [
            "\u001b[0;31m---------------------------------------------------------------------------\u001b[0m",
            "\u001b[0;31mTypeError\u001b[0m                                 Traceback (most recent call last)",
            "\u001b[0;32m<ipython-input-32-cfb6dc25dcda>\u001b[0m in \u001b[0;36m<cell line: 3>\u001b[0;34m()\u001b[0m\n\u001b[1;32m      1\u001b[0m \u001b[0;31m# lets change one of the elements in our changable tensor\u001b[0m\u001b[0;34m\u001b[0m\u001b[0;34m\u001b[0m\u001b[0m\n\u001b[1;32m      2\u001b[0m \u001b[0mchangable_tensor\u001b[0m\u001b[0;34m[\u001b[0m\u001b[0;36m0\u001b[0m\u001b[0;34m]\u001b[0m                          \u001b[0;31m# first element of tensor\u001b[0m\u001b[0;34m\u001b[0m\u001b[0;34m\u001b[0m\u001b[0m\n\u001b[0;32m----> 3\u001b[0;31m \u001b[0mchangable_tensor\u001b[0m\u001b[0;34m[\u001b[0m\u001b[0;36m0\u001b[0m\u001b[0;34m]\u001b[0m \u001b[0;34m=\u001b[0m \u001b[0;36m70\u001b[0m\u001b[0;34m\u001b[0m\u001b[0;34m\u001b[0m\u001b[0m\n\u001b[0m\u001b[1;32m      4\u001b[0m \u001b[0mchangable_tensor\u001b[0m\u001b[0;34m\u001b[0m\u001b[0;34m\u001b[0m\u001b[0m\n",
            "\u001b[0;31mTypeError\u001b[0m: 'ResourceVariable' object does not support item assignment"
          ]
        }
      ],
      "source": [
        "# lets change one of the elements in our changable tensor\n",
        "changable_tensor[0]                          # first element of tensor\n",
        "changable_tensor[0] = 70\n",
        "changable_tensor"
      ]
    },
    {
      "cell_type": "code",
      "execution_count": 33,
      "metadata": {
        "colab": {
          "base_uri": "https://localhost:8080/"
        },
        "id": "86_uAHdZ8Dfg",
        "outputId": "18a7769a-8b1f-4c5e-a033-356273e1012f"
      },
      "outputs": [
        {
          "data": {
            "text/plain": [
              "<tf.Variable 'Variable:0' shape=(2,) dtype=int32, numpy=array([7, 7], dtype=int32)>"
            ]
          },
          "execution_count": 33,
          "metadata": {},
          "output_type": "execute_result"
        }
      ],
      "source": [
        "changable_tensor[0].assign(7)          # we can use assign to alter the values in tensor\n",
        "changable_tensor"
      ]
    },
    {
      "cell_type": "code",
      "execution_count": 34,
      "metadata": {
        "colab": {
          "base_uri": "https://localhost:8080/",
          "height": 331
        },
        "id": "49-MmXfa8Q2H",
        "outputId": "e3094ea1-327b-419b-9e4d-ddefde6fadcf"
      },
      "outputs": [
        {
          "ename": "AttributeError",
          "evalue": "ignored",
          "output_type": "error",
          "traceback": [
            "\u001b[0;31m---------------------------------------------------------------------------\u001b[0m",
            "\u001b[0;31mAttributeError\u001b[0m                            Traceback (most recent call last)",
            "\u001b[0;32m<ipython-input-34-312275026a76>\u001b[0m in \u001b[0;36m<cell line: 3>\u001b[0;34m()\u001b[0m\n\u001b[1;32m      1\u001b[0m \u001b[0;31m# now unchangable tensor\u001b[0m\u001b[0;34m\u001b[0m\u001b[0;34m\u001b[0m\u001b[0m\n\u001b[1;32m      2\u001b[0m \u001b[0munchangable_tensor\u001b[0m\u001b[0;34m[\u001b[0m\u001b[0;36m0\u001b[0m\u001b[0;34m]\u001b[0m\u001b[0;34m\u001b[0m\u001b[0;34m\u001b[0m\u001b[0m\n\u001b[0;32m----> 3\u001b[0;31m \u001b[0munchangable_tensor\u001b[0m\u001b[0;34m[\u001b[0m\u001b[0;36m0\u001b[0m\u001b[0;34m]\u001b[0m\u001b[0;34m.\u001b[0m\u001b[0massign\u001b[0m\u001b[0;34m(\u001b[0m\u001b[0;36m9\u001b[0m\u001b[0;34m)\u001b[0m\u001b[0;34m\u001b[0m\u001b[0;34m\u001b[0m\u001b[0m\n\u001b[0m",
            "\u001b[0;32m/usr/local/lib/python3.10/dist-packages/tensorflow/python/framework/ops.py\u001b[0m in \u001b[0;36m__getattr__\u001b[0;34m(self, name)\u001b[0m\n\u001b[1;32m    428\u001b[0m         \u001b[0mnp_config\u001b[0m\u001b[0;34m.\u001b[0m\u001b[0menable_numpy_behavior\u001b[0m\u001b[0;34m(\u001b[0m\u001b[0;34m)\u001b[0m\u001b[0;34m\u001b[0m\u001b[0;34m\u001b[0m\u001b[0m\n\u001b[1;32m    429\u001b[0m       \"\"\")\n\u001b[0;32m--> 430\u001b[0;31m     \u001b[0mself\u001b[0m\u001b[0;34m.\u001b[0m\u001b[0m__getattribute__\u001b[0m\u001b[0;34m(\u001b[0m\u001b[0mname\u001b[0m\u001b[0;34m)\u001b[0m\u001b[0;34m\u001b[0m\u001b[0;34m\u001b[0m\u001b[0m\n\u001b[0m\u001b[1;32m    431\u001b[0m \u001b[0;34m\u001b[0m\u001b[0m\n\u001b[1;32m    432\u001b[0m   \u001b[0;34m@\u001b[0m\u001b[0mproperty\u001b[0m\u001b[0;34m\u001b[0m\u001b[0;34m\u001b[0m\u001b[0m\n",
            "\u001b[0;31mAttributeError\u001b[0m: 'tensorflow.python.framework.ops.EagerTensor' object has no attribute 'assign'"
          ]
        }
      ],
      "source": [
        "# now unchangable tensor\n",
        "unchangable_tensor[0]\n",
        "unchangable_tensor[0].assign(9)"
      ]
    },
    {
      "cell_type": "markdown",
      "metadata": {
        "id": "fWrHfTr-8mtS"
      },
      "source": [
        "In Neural Network, sometimes there is a need of Tensors, which can be altered, hence `tf.Variable()`. and sometimes we need tensors that cannot be altered, such as tensor created by `tf.constant()`."
      ]
    },
    {
      "cell_type": "markdown",
      "metadata": {
        "id": "5jkIE_689KCh"
      },
      "source": [
        "### Creating a Random Tensors\n",
        "Random Tensors are Tensors with arbitrary size and some Random nos. It is necessary to learn about Random Tensors, b/c Neural Networks begin with (initialize with) Random Tensors as weights, then it agjust the weights according to inputs and models hyperparamentses."
      ]
    },
    {
      "cell_type": "code",
      "execution_count": 35,
      "metadata": {
        "colab": {
          "base_uri": "https://localhost:8080/"
        },
        "id": "04bsDv8x8gcY",
        "outputId": "319852ed-ea65-491b-9857-fb76e238b37a"
      },
      "outputs": [
        {
          "data": {
            "text/plain": [
              "<tf.Tensor: shape=(3, 2), dtype=float32, numpy=\n",
              "array([[-0.7565803 , -0.06854702],\n",
              "       [ 0.07595026, -1.2573844 ],\n",
              "       [-0.23193763, -1.8107855 ]], dtype=float32)>"
            ]
          },
          "execution_count": 35,
          "metadata": {},
          "output_type": "execute_result"
        }
      ],
      "source": [
        "# create 2 random (same) tensors\n",
        "random_1 = tf.random.Generator.from_seed(42)       # set seed for reproducibility\n",
        "random_1 = random_1.normal(shape = (3,2))             # Tensor with values from Normal distn with the stated shape\n",
        "random_1"
      ]
    },
    {
      "cell_type": "code",
      "execution_count": 36,
      "metadata": {
        "colab": {
          "base_uri": "https://localhost:8080/"
        },
        "id": "2wujE2Ue_URo",
        "outputId": "b63498ff-4359-4d60-a327-78f75aa79903"
      },
      "outputs": [
        {
          "data": {
            "text/plain": [
              "(<tf.Tensor: shape=(3, 2), dtype=float32, numpy=\n",
              " array([[-0.7565803 , -0.06854702],\n",
              "        [ 0.07595026, -1.2573844 ],\n",
              "        [-0.23193763, -1.8107855 ]], dtype=float32)>,\n",
              " <tf.Tensor: shape=(3, 2), dtype=float32, numpy=\n",
              " array([[-0.7565803 , -0.06854702],\n",
              "        [ 0.07595026, -1.2573844 ],\n",
              "        [-0.23193763, -1.8107855 ]], dtype=float32)>,\n",
              " <tf.Tensor: shape=(3, 2), dtype=bool, numpy=\n",
              " array([[ True,  True],\n",
              "        [ True,  True],\n",
              "        [ True,  True]])>)"
            ]
          },
          "execution_count": 36,
          "metadata": {},
          "output_type": "execute_result"
        }
      ],
      "source": [
        "random_2 = tf.random.Generator.from_seed(42)       # set seed for reproducibility\n",
        "random_2 = random_2.normal(shape = (3,2))\n",
        "\n",
        "# Are random_1 equals random_2?\n",
        "random_2, random_1, random_2 == random_1         # same b/c we are using same seed"
      ]
    },
    {
      "cell_type": "markdown",
      "metadata": {
        "id": "T-4R7CrSAB9E"
      },
      "source": [
        "### Shuffle the order of elements in the Tensor\n",
        "One reason for shuffle to avoid the bias that input tensor brings to NN. by shuffling will be a way to give NN more unbiased playground to select the weights"
      ]
    },
    {
      "cell_type": "code",
      "execution_count": 37,
      "metadata": {
        "colab": {
          "base_uri": "https://localhost:8080/"
        },
        "id": "EKmKmbf__4Pa",
        "outputId": "e85e753e-da11-4384-c370-1e3361a49314"
      },
      "outputs": [
        {
          "data": {
            "text/plain": [
              "<tf.Tensor: shape=(3, 2), dtype=int32, numpy=\n",
              "array([[ 3,  4],\n",
              "       [10,  7],\n",
              "       [ 2,  5]], dtype=int32)>"
            ]
          },
          "execution_count": 37,
          "metadata": {},
          "output_type": "execute_result"
        }
      ],
      "source": [
        "not_shuffle = tf.constant([[10,7],\n",
        "                           [3,4],\n",
        "                           [2,5]])\n",
        "\n",
        "# shuffle\n",
        "tf.random.shuffle(not_shuffle)    # Randomly shuffle a Tensor along 1st dimension\n"
      ]
    },
    {
      "cell_type": "code",
      "execution_count": 38,
      "metadata": {
        "colab": {
          "base_uri": "https://localhost:8080/"
        },
        "id": "wN_m7JtCA_zq",
        "outputId": "1e29814c-b691-4ee4-e6a3-88ace93f70c1"
      },
      "outputs": [
        {
          "data": {
            "text/plain": [
              "<tf.Tensor: shape=(3, 2), dtype=int32, numpy=\n",
              "array([[10,  7],\n",
              "       [ 3,  4],\n",
              "       [ 2,  5]], dtype=int32)>"
            ]
          },
          "execution_count": 38,
          "metadata": {},
          "output_type": "execute_result"
        }
      ],
      "source": [
        "# shuffle\n",
        "tf.random.shuffle(not_shuffle)     # different order each time"
      ]
    },
    {
      "cell_type": "code",
      "execution_count": 39,
      "metadata": {
        "colab": {
          "base_uri": "https://localhost:8080/"
        },
        "id": "dfHwjxARBUOC",
        "outputId": "7b1ac0ea-04c5-4777-db6b-8a79e65287d3"
      },
      "outputs": [
        {
          "data": {
            "text/plain": [
              "<tf.Tensor: shape=(3, 2), dtype=int32, numpy=\n",
              "array([[10,  7],\n",
              "       [ 3,  4],\n",
              "       [ 2,  5]], dtype=int32)>"
            ]
          },
          "execution_count": 39,
          "metadata": {},
          "output_type": "execute_result"
        }
      ],
      "source": [
        "# shuffle\n",
        "tf.random.set_seed(42)             # global lever seed\n",
        "tf.random.shuffle(not_shuffle, seed = 42)    # operational level seed\n",
        "\n",
        "# Seed based operation derived from first global then operation seed - for reproducible randomness"
      ]
    },
    {
      "cell_type": "markdown",
      "metadata": {
        "id": "jrgO8g8XxyG9"
      },
      "source": [
        "It appears if we want \"shuffled\" tensors to be in same order, then we must use global and operational level randomm seed.\n",
        "> [Rule 4](https://www.tensorflow.org/api_docs/python/tf/random/set_seed): If both the global and the operation seed are set: Both seeds are used in conjunction to determine the random sequence.\n",
        "\n",
        "It is important to know that, b/c as NN initializes with **Random** patterns of weights, it endsup showing different results everytime for the same experiment. Therefore, to make a reproducible experiments, it is imp to shuffle the data in a same order everytime and initialize with the similar random pattern, and run through the experiment."
      ]
    },
    {
      "cell_type": "markdown",
      "metadata": {
        "id": "UOodsUw_zm6o"
      },
      "source": [
        "### other ways to make Tensors"
      ]
    },
    {
      "cell_type": "markdown",
      "metadata": {
        "id": "VhXI0Xlp0Gf1"
      },
      "source": [
        "#### 1s and 0s similar to Numpy"
      ]
    },
    {
      "cell_type": "code",
      "execution_count": 40,
      "metadata": {
        "colab": {
          "base_uri": "https://localhost:8080/"
        },
        "id": "7elIeNlQxf5_",
        "outputId": "c27ee536-c7fe-405d-8666-4d1c1a27fc00"
      },
      "outputs": [
        {
          "data": {
            "text/plain": [
              "<tf.Tensor: shape=(3, 2), dtype=float32, numpy=\n",
              "array([[1., 1.],\n",
              "       [1., 1.],\n",
              "       [1., 1.]], dtype=float32)>"
            ]
          },
          "execution_count": 40,
          "metadata": {},
          "output_type": "execute_result"
        }
      ],
      "source": [
        "# ones\n",
        "tf.ones([3,2], float)     # shape and datatype"
      ]
    },
    {
      "cell_type": "code",
      "execution_count": 41,
      "metadata": {
        "colab": {
          "base_uri": "https://localhost:8080/"
        },
        "id": "vkYCoPyeB6ET",
        "outputId": "8f89d7ff-b2fd-45f3-9d16-ce9cfc1f48b2"
      },
      "outputs": [
        {
          "data": {
            "text/plain": [
              "<tf.Tensor: shape=(3, 10), dtype=float32, numpy=\n",
              "array([[0., 0., 0., 0., 0., 0., 0., 0., 0., 0.],\n",
              "       [0., 0., 0., 0., 0., 0., 0., 0., 0., 0.],\n",
              "       [0., 0., 0., 0., 0., 0., 0., 0., 0., 0.]], dtype=float32)>"
            ]
          },
          "execution_count": 41,
          "metadata": {},
          "output_type": "execute_result"
        }
      ],
      "source": [
        "# zeros\n",
        "tf.zeros(shape = (3,10))"
      ]
    },
    {
      "cell_type": "markdown",
      "metadata": {
        "id": "WTrnM8mm0hTC"
      },
      "source": [
        "The main diff b/w Numpy array and TF Tensors, is that, tensors can be run on a GPU ( faster for Numericcomputing)."
      ]
    },
    {
      "cell_type": "code",
      "execution_count": 2,
      "metadata": {
        "colab": {
          "base_uri": "https://localhost:8080/"
        },
        "id": "NIr7E6Ft0WzR",
        "outputId": "60f3c0a2-39f6-4b45-a368-75808fd29a2b"
      },
      "outputs": [
        {
          "data": {
            "text/plain": [
              "array([ 1,  2,  3,  4,  5,  6,  7,  8,  9, 10, 11, 12, 13, 14, 15, 16, 17,\n",
              "       18, 19, 20, 21, 22, 23, 24], dtype=int32)"
            ]
          },
          "execution_count": 2,
          "metadata": {},
          "output_type": "execute_result"
        }
      ],
      "source": [
        "# Numpy Array\n",
        "import numpy as np\n",
        "numpy_A = np.arange(1,25, dtype=np.int32)      # numpy array\n",
        "numpy_A"
      ]
    },
    {
      "cell_type": "code",
      "execution_count": 3,
      "metadata": {
        "colab": {
          "base_uri": "https://localhost:8080/"
        },
        "id": "Y7IjRVZm1IOx",
        "outputId": "b970082f-9327-4e86-89ef-a88ee5f8664f"
      },
      "outputs": [
        {
          "data": {
            "text/plain": [
              "(<tf.Tensor: shape=(24,), dtype=int32, numpy=\n",
              " array([ 1,  2,  3,  4,  5,  6,  7,  8,  9, 10, 11, 12, 13, 14, 15, 16, 17,\n",
              "        18, 19, 20, 21, 22, 23, 24], dtype=int32)>,\n",
              " <tf.Tensor: shape=(3, 8), dtype=int32, numpy=\n",
              " array([[ 1,  2,  3,  4,  5,  6,  7,  8],\n",
              "        [ 9, 10, 11, 12, 13, 14, 15, 16],\n",
              "        [17, 18, 19, 20, 21, 22, 23, 24]], dtype=int32)>)"
            ]
          },
          "execution_count": 3,
          "metadata": {},
          "output_type": "execute_result"
        }
      ],
      "source": [
        "# turning numpy array into tensors\n",
        "A = tf.constant(numpy_A)\n",
        "B = tf.constant(numpy_A, shape = (3,8))      # for shape - ensure the shape equates to no of elements in an array (e.g: 24 = 8*3 OR 2*3*4)\n",
        "A, B"
      ]
    },
    {
      "cell_type": "markdown",
      "metadata": {
        "id": "-6QHZp6O2Jk3"
      },
      "source": [
        "### Getting Info from Tensors\n",
        "\n",
        "Tnsor attributes:\n",
        "* shape - the length of no of elements for each dimension of tensor  `tf.shape`\n",
        "* Rank - The no of Tensor dimensions `tf.ndim`\n",
        "* axis or dimensions - specific dimension of a tensor (e.g: index of a 1st dimension `tensor[0]` OR `tensor[:, 1]` suggest all elements of   \n",
        "* size - total no of items in the tensor `tf.size(tensor)`"
      ]
    },
    {
      "cell_type": "code",
      "execution_count": 44,
      "metadata": {
        "colab": {
          "base_uri": "https://localhost:8080/"
        },
        "id": "BiTclGv01WCj",
        "outputId": "43592c90-148e-4214-8dc0-3e162f7b2b7b"
      },
      "outputs": [
        {
          "data": {
            "text/plain": [
              "(<tf.Tensor: shape=(2, 3, 4, 5), dtype=float32, numpy=\n",
              " array([[[[0., 0., 0., 0., 0.],\n",
              "          [0., 0., 0., 0., 0.],\n",
              "          [0., 0., 0., 0., 0.],\n",
              "          [0., 0., 0., 0., 0.]],\n",
              " \n",
              "         [[0., 0., 0., 0., 0.],\n",
              "          [0., 0., 0., 0., 0.],\n",
              "          [0., 0., 0., 0., 0.],\n",
              "          [0., 0., 0., 0., 0.]],\n",
              " \n",
              "         [[0., 0., 0., 0., 0.],\n",
              "          [0., 0., 0., 0., 0.],\n",
              "          [0., 0., 0., 0., 0.],\n",
              "          [0., 0., 0., 0., 0.]]],\n",
              " \n",
              " \n",
              "        [[[0., 0., 0., 0., 0.],\n",
              "          [0., 0., 0., 0., 0.],\n",
              "          [0., 0., 0., 0., 0.],\n",
              "          [0., 0., 0., 0., 0.]],\n",
              " \n",
              "         [[0., 0., 0., 0., 0.],\n",
              "          [0., 0., 0., 0., 0.],\n",
              "          [0., 0., 0., 0., 0.],\n",
              "          [0., 0., 0., 0., 0.]],\n",
              " \n",
              "         [[0., 0., 0., 0., 0.],\n",
              "          [0., 0., 0., 0., 0.],\n",
              "          [0., 0., 0., 0., 0.],\n",
              "          [0., 0., 0., 0., 0.]]]], dtype=float32)>,\n",
              " 4)"
            ]
          },
          "execution_count": 44,
          "metadata": {},
          "output_type": "execute_result"
        }
      ],
      "source": [
        "# Rank 4 Tensor\n",
        "rank_4_dim = tf.zeros(shape = [2,3,4,5])     # ndim = 4 (remember it is the no of elements in the shape)!\n",
        "rank_4_dim, rank_4_dim.ndim"
      ]
    },
    {
      "cell_type": "code",
      "execution_count": 45,
      "metadata": {
        "colab": {
          "base_uri": "https://localhost:8080/"
        },
        "id": "ZV03iPBJ4Mnq",
        "outputId": "cf0d9d09-0c12-4966-882f-06e505e575ec"
      },
      "outputs": [
        {
          "data": {
            "text/plain": [
              "<tf.Tensor: shape=(3, 4, 5), dtype=float32, numpy=\n",
              "array([[[0., 0., 0., 0., 0.],\n",
              "        [0., 0., 0., 0., 0.],\n",
              "        [0., 0., 0., 0., 0.],\n",
              "        [0., 0., 0., 0., 0.]],\n",
              "\n",
              "       [[0., 0., 0., 0., 0.],\n",
              "        [0., 0., 0., 0., 0.],\n",
              "        [0., 0., 0., 0., 0.],\n",
              "        [0., 0., 0., 0., 0.]],\n",
              "\n",
              "       [[0., 0., 0., 0., 0.],\n",
              "        [0., 0., 0., 0., 0.],\n",
              "        [0., 0., 0., 0., 0.],\n",
              "        [0., 0., 0., 0., 0.]]], dtype=float32)>"
            ]
          },
          "execution_count": 45,
          "metadata": {},
          "output_type": "execute_result"
        }
      ],
      "source": [
        "rank_4_dim[0]       # 0th axix"
      ]
    },
    {
      "cell_type": "code",
      "execution_count": 46,
      "metadata": {
        "colab": {
          "base_uri": "https://localhost:8080/"
        },
        "id": "Qt6Owoz24xEa",
        "outputId": "5cd77fde-aae4-4ab2-c00d-f1b1567d1487"
      },
      "outputs": [
        {
          "data": {
            "text/plain": [
              "<tf.Tensor: shape=(), dtype=int32, numpy=120>"
            ]
          },
          "execution_count": 46,
          "metadata": {},
          "output_type": "execute_result"
        }
      ],
      "source": [
        "tf.size(rank_4_dim)    # 120 elements = 2*3*4*5"
      ]
    },
    {
      "cell_type": "code",
      "execution_count": 47,
      "metadata": {
        "colab": {
          "base_uri": "https://localhost:8080/"
        },
        "id": "62s6WZNx5CKT",
        "outputId": "4b80b2cc-0811-43f8-8027-46f8e3c0823a"
      },
      "outputs": [
        {
          "name": "stdout",
          "output_type": "stream",
          "text": [
            "Datatype of every element:  <dtype: 'float32'>\n",
            "no of Dimensions (rank):  4\n",
            "Shape of a Tensor:  (2, 3, 4, 5)\n",
            "Elements along 0th axis:  2\n",
            "Elements along the last axis:  5\n",
            "Total no of elements in out Tensors:  120\n"
          ]
        }
      ],
      "source": [
        "# various attributes of tensor\n",
        "print(\"Datatype of every element: \", rank_4_dim.dtype)\n",
        "print(\"no of Dimensions (rank): \", rank_4_dim.ndim)\n",
        "print(\"Shape of a Tensor: \", rank_4_dim.shape)\n",
        "print(\"Elements along 0th axis: \", rank_4_dim.shape[0])\n",
        "print(\"Elements along the last axis: \", rank_4_dim.shape[-1])\n",
        "print(\"Total no of elements in out Tensors: \", tf.size(rank_4_dim).numpy())"
      ]
    },
    {
      "cell_type": "markdown",
      "metadata": {
        "id": "iqy25d-P697C"
      },
      "source": [
        "### Indexing Tensors (similar to Python list)"
      ]
    },
    {
      "cell_type": "code",
      "execution_count": 48,
      "metadata": {
        "colab": {
          "base_uri": "https://localhost:8080/"
        },
        "id": "tCs8Ty697oO7",
        "outputId": "837adf96-18ac-4dfc-bcfc-10f5265c1733"
      },
      "outputs": [
        {
          "data": {
            "text/plain": [
              "[1, 2]"
            ]
          },
          "execution_count": 48,
          "metadata": {},
          "output_type": "execute_result"
        }
      ],
      "source": [
        "some_liat = [1,2,3,4]\n",
        "some_liat[:2]          # 1st 2 elements of a list"
      ]
    },
    {
      "cell_type": "code",
      "execution_count": 49,
      "metadata": {
        "colab": {
          "base_uri": "https://localhost:8080/"
        },
        "id": "7sbsFiOQ6cN0",
        "outputId": "4b8e8ae2-ef24-4994-ca83-fe42290b47d7"
      },
      "outputs": [
        {
          "data": {
            "text/plain": [
              "<tf.Tensor: shape=(2, 2, 2, 2), dtype=float32, numpy=\n",
              "array([[[[0., 0.],\n",
              "         [0., 0.]],\n",
              "\n",
              "        [[0., 0.],\n",
              "         [0., 0.]]],\n",
              "\n",
              "\n",
              "       [[[0., 0.],\n",
              "         [0., 0.]],\n",
              "\n",
              "        [[0., 0.],\n",
              "         [0., 0.]]]], dtype=float32)>"
            ]
          },
          "execution_count": 49,
          "metadata": {},
          "output_type": "execute_result"
        }
      ],
      "source": [
        "# 1st 2 elements of each dimension\n",
        "rank_4_dim[:2, :2, :2, :2]"
      ]
    },
    {
      "cell_type": "code",
      "execution_count": 50,
      "metadata": {
        "colab": {
          "base_uri": "https://localhost:8080/"
        },
        "id": "nC4CHeii7YUE",
        "outputId": "9b295c88-5306-48cc-9380-dd88e9a525fc"
      },
      "outputs": [
        {
          "data": {
            "text/plain": [
              "<tf.Tensor: shape=(1, 1, 1, 5), dtype=float32, numpy=array([[[[0., 0., 0., 0., 0.]]]], dtype=float32)>"
            ]
          },
          "execution_count": 50,
          "metadata": {},
          "output_type": "execute_result"
        }
      ],
      "source": [
        "# 1st element from each dimension from each index except the last one\n",
        "rank_4_dim[:1, :1, :1]"
      ]
    },
    {
      "cell_type": "code",
      "execution_count": 51,
      "metadata": {
        "colab": {
          "base_uri": "https://localhost:8080/"
        },
        "id": "2ylkt6UP8TxS",
        "outputId": "e3480542-ea71-4f75-ffae-f06236d81e20"
      },
      "outputs": [
        {
          "data": {
            "text/plain": [
              "(<tf.Tensor: shape=(2, 2), dtype=int32, numpy=\n",
              " array([[10, 10],\n",
              "        [10, 10]], dtype=int32)>,\n",
              " 2)"
            ]
          },
          "execution_count": 51,
          "metadata": {},
          "output_type": "execute_result"
        }
      ],
      "source": [
        "# create a rank 2 tensor\n",
        "rank_2_tensor = tf.constant(10, shape = (2,2))\n",
        "rank_2_tensor, rank_2_tensor.ndim"
      ]
    },
    {
      "cell_type": "code",
      "execution_count": 52,
      "metadata": {
        "colab": {
          "base_uri": "https://localhost:8080/"
        },
        "id": "55F2zpNm9Bk0",
        "outputId": "416de0ff-e18f-4bca-a2b9-90f92e27ca8b"
      },
      "outputs": [
        {
          "data": {
            "text/plain": [
              "<tf.Tensor: shape=(2,), dtype=int32, numpy=array([10, 10], dtype=int32)>"
            ]
          },
          "execution_count": 52,
          "metadata": {},
          "output_type": "execute_result"
        }
      ],
      "source": [
        "# Last item of each row of a tensor\n",
        "rank_2_tensor[:, -1]              # [row, column]"
      ]
    },
    {
      "cell_type": "markdown",
      "metadata": {
        "id": "swg1o8Ka93Yk"
      },
      "source": [
        "#### Alter the size of a Tensor\n",
        "it is imp to manipulate the tensor size for customizing NN"
      ]
    },
    {
      "cell_type": "code",
      "execution_count": 53,
      "metadata": {
        "colab": {
          "base_uri": "https://localhost:8080/"
        },
        "id": "4d4D1A3j9gCI",
        "outputId": "f58931a3-7c44-4efc-b653-c6df798d9691"
      },
      "outputs": [
        {
          "data": {
            "text/plain": [
              "<tf.Tensor: shape=(2, 2, 1), dtype=int32, numpy=\n",
              "array([[[10],\n",
              "        [10]],\n",
              "\n",
              "       [[10],\n",
              "        [10]]], dtype=int32)>"
            ]
          },
          "execution_count": 53,
          "metadata": {},
          "output_type": "execute_result"
        }
      ],
      "source": [
        "# Adding extra dimension to rank_2_tensor\n",
        "rank_3_tensor = rank_2_tensor[..., tf.newaxis]   # this means [every axis b4, tf.newaxis]. we could have write [:,:, tf.newaxis]\n",
        "rank_3_tensor"
      ]
    },
    {
      "cell_type": "markdown",
      "metadata": {
        "id": "eigg0B_tcNNB"
      },
      "source": [
        "### Manipulatinf Tensors (How to manipulate and combine Tensors)\n",
        "If Data in Tensors, by manipulating Tensors, it is easier to find relevent pattern initially. in addition to python function, we can use Tensorflow functions.\n"
      ]
    },
    {
      "cell_type": "markdown",
      "metadata": {
        "id": "1d9sp0PDpTf1"
      },
      "source": [
        "#### Basic Operation (element-wise)\n",
        "`+`, `-`, `*`, `/`"
      ]
    },
    {
      "cell_type": "code",
      "execution_count": 54,
      "metadata": {
        "colab": {
          "base_uri": "https://localhost:8080/"
        },
        "id": "JPVMgWK9-WK8",
        "outputId": "a09bbce7-7bca-45bc-f5c7-b04e4569cab2"
      },
      "outputs": [
        {
          "data": {
            "text/plain": [
              "<tf.Tensor: shape=(2, 2), dtype=int32, numpy=\n",
              "array([[20, 17],\n",
              "       [13, 14]], dtype=int32)>"
            ]
          },
          "execution_count": 54,
          "metadata": {},
          "output_type": "execute_result"
        }
      ],
      "source": [
        "# adding values via addition\n",
        "tensor = tf.constant([[10,7],[3,4]])\n",
        "tensor+10                             # While original remains same."
      ]
    },
    {
      "cell_type": "code",
      "execution_count": 55,
      "metadata": {
        "colab": {
          "base_uri": "https://localhost:8080/"
        },
        "id": "sju0EUBuprMy",
        "outputId": "5d7e84bf-9f6b-4b5e-8426-ecb1d4234b31"
      },
      "outputs": [
        {
          "data": {
            "text/plain": [
              "<tf.Tensor: shape=(2, 2), dtype=int32, numpy=\n",
              "array([[ 0, -3],\n",
              "       [-7, -6]], dtype=int32)>"
            ]
          },
          "execution_count": 55,
          "metadata": {},
          "output_type": "execute_result"
        }
      ],
      "source": [
        "# sub\n",
        "tensor-10"
      ]
    },
    {
      "cell_type": "code",
      "execution_count": 56,
      "metadata": {
        "colab": {
          "base_uri": "https://localhost:8080/"
        },
        "id": "iD7AQbTLp2wr",
        "outputId": "7aec58f8-38ea-4571-b162-afdcf3310936"
      },
      "outputs": [
        {
          "data": {
            "text/plain": [
              "<tf.Tensor: shape=(2, 2), dtype=int32, numpy=\n",
              "array([[100,  70],\n",
              "       [ 30,  40]], dtype=int32)>"
            ]
          },
          "execution_count": 56,
          "metadata": {},
          "output_type": "execute_result"
        }
      ],
      "source": [
        "#\n",
        "tensor*10"
      ]
    },
    {
      "cell_type": "code",
      "execution_count": 57,
      "metadata": {
        "colab": {
          "base_uri": "https://localhost:8080/"
        },
        "id": "6l289OPhp6EE",
        "outputId": "eb0939d2-9c6d-4c00-83e0-b0d394bce8b6"
      },
      "outputs": [
        {
          "data": {
            "text/plain": [
              "<tf.Tensor: shape=(2, 2), dtype=float64, numpy=\n",
              "array([[1. , 0.7],\n",
              "       [0.3, 0.4]])>"
            ]
          },
          "execution_count": 57,
          "metadata": {},
          "output_type": "execute_result"
        }
      ],
      "source": [
        "tensor/10"
      ]
    },
    {
      "cell_type": "markdown",
      "metadata": {
        "id": "zzDJJ0f0qNkh"
      },
      "source": [
        "#### TensorFlow Built-in function"
      ]
    },
    {
      "cell_type": "code",
      "execution_count": 59,
      "metadata": {
        "colab": {
          "base_uri": "https://localhost:8080/"
        },
        "id": "e07MjZgUp7Oy",
        "outputId": "40ee5ee8-5a18-4567-8663-3861ae368b5d"
      },
      "outputs": [
        {
          "data": {
            "text/plain": [
              "<tf.Tensor: shape=(2, 2), dtype=int32, numpy=\n",
              "array([[100,  70],\n",
              "       [ 30,  40]], dtype=int32)>"
            ]
          },
          "execution_count": 59,
          "metadata": {},
          "output_type": "execute_result"
        }
      ],
      "source": [
        "tf.multiply(tensor, 10)     # same as tensor*10 - initial tensor unchanged"
      ]
    },
    {
      "cell_type": "code",
      "execution_count": 60,
      "metadata": {
        "colab": {
          "base_uri": "https://localhost:8080/"
        },
        "id": "nLgSiuEeqaUb",
        "outputId": "5b8346b2-fb3e-4cd5-ab6b-95263223217b"
      },
      "outputs": [
        {
          "data": {
            "text/plain": [
              "<tf.Tensor: shape=(2, 2), dtype=int32, numpy=\n",
              "array([[20, 17],\n",
              "       [13, 14]], dtype=int32)>"
            ]
          },
          "execution_count": 60,
          "metadata": {},
          "output_type": "execute_result"
        }
      ],
      "source": [
        "tf.add(tensor,10)"
      ]
    },
    {
      "cell_type": "markdown",
      "metadata": {
        "id": "yP1M_B-KqoM_"
      },
      "source": [
        "#### Matrix Multiplication\n",
        "\n",
        ">   Rule1: The inner dimension must match\n",
        "\n",
        ">   Rule2: The resulting matrix has the shape of outer dimensions\n",
        "\n",
        "This leads to important observation. To obtain the desired result, it is necessary to keep a check which tensor is being manipulated. As different tensor manipulation (same tensors with different shapes) and later tensor multiplication results in an entirely different result!"
      ]
    },
    {
      "cell_type": "code",
      "execution_count": 61,
      "metadata": {
        "colab": {
          "base_uri": "https://localhost:8080/"
        },
        "id": "KK4FSpcFqlMM",
        "outputId": "6d519a05-87f5-494c-99e3-ac3c4549d8ea"
      },
      "outputs": [
        {
          "name": "stdout",
          "output_type": "stream",
          "text": [
            "tf.Tensor(\n",
            "[[10  7]\n",
            " [ 3  4]], shape=(2, 2), dtype=int32)\n"
          ]
        }
      ],
      "source": [
        "print(tensor)"
      ]
    },
    {
      "cell_type": "code",
      "execution_count": 62,
      "metadata": {
        "colab": {
          "base_uri": "https://localhost:8080/"
        },
        "id": "g7jp5FV8rfXr",
        "outputId": "6175a1f6-afe3-4735-f832-1fa5af89b937"
      },
      "outputs": [
        {
          "data": {
            "text/plain": [
              "<tf.Tensor: shape=(2, 2), dtype=int32, numpy=\n",
              "array([[121,  98],\n",
              "       [ 42,  37]], dtype=int32)>"
            ]
          },
          "execution_count": 62,
          "metadata": {},
          "output_type": "execute_result"
        }
      ],
      "source": [
        "# Tensor multiplication with python operator\n",
        "tensor @ tensor"
      ]
    },
    {
      "cell_type": "code",
      "execution_count": 63,
      "metadata": {
        "colab": {
          "base_uri": "https://localhost:8080/"
        },
        "id": "62yo0z_jryWT",
        "outputId": "7e8e37bc-6aa9-4dd8-d79d-10ad1ce3939f"
      },
      "outputs": [
        {
          "data": {
            "text/plain": [
              "<tf.Tensor: shape=(2, 2), dtype=int32, numpy=\n",
              "array([[121,  98],\n",
              "       [ 42,  37]], dtype=int32)>"
            ]
          },
          "execution_count": 63,
          "metadata": {},
          "output_type": "execute_result"
        }
      ],
      "source": [
        "# Tensor multiplication with TF\n",
        "tf.matmul(tensor, tensor)              # same!"
      ]
    },
    {
      "cell_type": "code",
      "execution_count": 6,
      "metadata": {
        "id": "8SdFFtPUr516"
      },
      "outputs": [],
      "source": [
        "A = tf.constant([[1,2],\n",
        "                 [3,4],\n",
        "                 [5,6]], float)          # 3x2 matrix\n",
        "B = tf.constant([[7,8],\n",
        "                 [9,10],\n",
        "                 [11,12]], float)        # 3x2 Tensor\n",
        "\n",
        "# since 3x2 * 3x2 wont multiple - change the shape of B"
      ]
    },
    {
      "cell_type": "code",
      "execution_count": 7,
      "metadata": {
        "colab": {
          "base_uri": "https://localhost:8080/"
        },
        "id": "BeAj469ltitE",
        "outputId": "040277fc-8cdc-400e-8d05-8253a35d0dfe"
      },
      "outputs": [
        {
          "data": {
            "text/plain": [
              "<tf.Tensor: shape=(3, 3), dtype=float32, numpy=\n",
              "array([[ 27.,  30.,  33.],\n",
              "       [ 61.,  68.,  75.],\n",
              "       [ 95., 106., 117.]], dtype=float32)>"
            ]
          },
          "execution_count": 7,
          "metadata": {},
          "output_type": "execute_result"
        }
      ],
      "source": [
        "C = tf.reshape(B, shape=(2,3))\n",
        "\n",
        "tf.matmul(A,C)"
      ]
    },
    {
      "cell_type": "markdown",
      "metadata": {
        "id": "Ji_1mbi-xxKx"
      },
      "source": [
        "**Dot Product**\n",
        "A matrix multiplication can be done:\n",
        "* `tf.matmul()`\n",
        "* `tf.tensordot()`"
      ]
    },
    {
      "cell_type": "code",
      "execution_count": 8,
      "metadata": {
        "colab": {
          "base_uri": "https://localhost:8080/"
        },
        "id": "8Qn2tRJvucdq",
        "outputId": "e0923129-9e27-4385-9522-fc1f4a6dac90"
      },
      "outputs": [
        {
          "data": {
            "text/plain": [
              "<tf.Tensor: shape=(2, 2), dtype=float32, numpy=\n",
              "array([[ 89.,  98.],\n",
              "       [116., 128.]], dtype=float32)>"
            ]
          },
          "execution_count": 8,
          "metadata": {},
          "output_type": "execute_result"
        }
      ],
      "source": [
        "# perform the dot product where A or B needs to be transposed - Goal: check what difference does reshape gives to transpose\n",
        "tf.tensordot(tf.transpose(A),B, axes=1)"
      ]
    },
    {
      "cell_type": "code",
      "execution_count": 9,
      "metadata": {
        "colab": {
          "base_uri": "https://localhost:8080/"
        },
        "id": "hk106oqVyvFK",
        "outputId": "4ac80aab-4417-453a-af13-ea1857cf00f4"
      },
      "outputs": [
        {
          "data": {
            "text/plain": [
              "<tf.Tensor: shape=(3, 3), dtype=float32, numpy=\n",
              "array([[ 23.,  29.,  35.],\n",
              "       [ 53.,  67.,  81.],\n",
              "       [ 83., 105., 127.]], dtype=float32)>"
            ]
          },
          "execution_count": 9,
          "metadata": {},
          "output_type": "execute_result"
        }
      ],
      "source": [
        "# perform matrix multiplication b/w A & B(transposed)\n",
        "tf.matmul(A, tf.transpose(B))"
      ]
    },
    {
      "cell_type": "code",
      "execution_count": 10,
      "metadata": {
        "colab": {
          "base_uri": "https://localhost:8080/"
        },
        "id": "wAs42A62zmyB",
        "outputId": "82a6bd9d-d730-4ca2-d63c-e00b52506927"
      },
      "outputs": [
        {
          "data": {
            "text/plain": [
              "<tf.Tensor: shape=(3, 3), dtype=float32, numpy=\n",
              "array([[ 27.,  30.,  33.],\n",
              "       [ 61.,  68.,  75.],\n",
              "       [ 95., 106., 117.]], dtype=float32)>"
            ]
          },
          "execution_count": 10,
          "metadata": {},
          "output_type": "execute_result"
        }
      ],
      "source": [
        "# perform matrix multiplication b/w A & B(reshaped)\n",
        "tf.matmul(A, tf.reshape(B, (2,3)))"
      ]
    },
    {
      "cell_type": "markdown",
      "metadata": {
        "id": "BXOoqcL7z6XC"
      },
      "source": [
        "**AxB(transposed)** is different than **AxB(reshaped)**\n"
      ]
    },
    {
      "cell_type": "code",
      "execution_count": 12,
      "metadata": {
        "colab": {
          "base_uri": "https://localhost:8080/"
        },
        "id": "XLQZu3Y7z4Ya",
        "outputId": "b15bb6b1-801a-4d5e-df41-d81ca2a1e6b1"
      },
      "outputs": [
        {
          "name": "stdout",
          "output_type": "stream",
          "text": [
            "B:\n",
            "tf.Tensor(\n",
            "[[ 7.  8.]\n",
            " [ 9. 10.]\n",
            " [11. 12.]], shape=(3, 2), dtype=float32) \n",
            "\n",
            "B transposed:\n",
            "tf.Tensor(\n",
            "[[ 7.  9. 11.]\n",
            " [ 8. 10. 12.]], shape=(2, 3), dtype=float32) \n",
            "\n",
            "B reshaped to (2,3):\n",
            "tf.Tensor(\n",
            "[[ 7.  8.  9.]\n",
            " [10. 11. 12.]], shape=(2, 3), dtype=float32) \n",
            "\n"
          ]
        }
      ],
      "source": [
        "# checking the values of B-transposed and B-reshaped - to find out the diff\n",
        "print(\"B:\")\n",
        "print(B, \"\\n\")\n",
        "\n",
        "print(\"B transposed:\")\n",
        "print(tf.transpose(B),\"\\n\")\n",
        "\n",
        "print(\"B reshaped to (2,3):\")\n",
        "print(tf.reshape(B, (2,3)),\"\\n\")\n"
      ]
    },
    {
      "cell_type": "markdown",
      "metadata": {
        "id": "XbSEPg_41YUl"
      },
      "source": [
        "Generally when performing mmatrix multiplication on Tensors, and axes dont line up, it is imp to **transpose** rather reshape to satisfy the multiplication rule."
      ]
    },
    {
      "cell_type": "markdown",
      "metadata": {
        "id": "QSq2Mv6w10Zo"
      },
      "source": [
        "### Changing the datatype of Tensor"
      ]
    },
    {
      "cell_type": "code",
      "execution_count": 13,
      "metadata": {
        "colab": {
          "base_uri": "https://localhost:8080/"
        },
        "id": "jDNBSRb004rh",
        "outputId": "47202ac2-8839-477c-e66e-8f481ab8a2db"
      },
      "outputs": [
        {
          "data": {
            "text/plain": [
              "tf.float32"
            ]
          },
          "execution_count": 13,
          "metadata": {},
          "output_type": "execute_result"
        }
      ],
      "source": [
        "# tensor with default datatype (float32)\n",
        "B = tf.constant([1.7,7.4])\n",
        "B.dtype"
      ]
    },
    {
      "cell_type": "code",
      "execution_count": 16,
      "metadata": {
        "colab": {
          "base_uri": "https://localhost:8080/"
        },
        "id": "ZbIhw3hP2Eji",
        "outputId": "752353d9-8ffa-44cb-b3e8-e6477b803c7c"
      },
      "outputs": [
        {
          "data": {
            "text/plain": [
              "(<tf.Tensor: shape=(2,), dtype=float16, numpy=array([1.7, 7.4], dtype=float16)>,\n",
              " tf.float16)"
            ]
          },
          "execution_count": 16,
          "metadata": {},
          "output_type": "execute_result"
        }
      ],
      "source": [
        "# change from float 32 - float16 (reduce precision to increase the speed)\n",
        "D = tf.cast(B, dtype = tf.float16)\n",
        "D, D.dtype\n"
      ]
    },
    {
      "cell_type": "code",
      "execution_count": 17,
      "metadata": {
        "colab": {
          "base_uri": "https://localhost:8080/"
        },
        "id": "vXfcmv-V2kNZ",
        "outputId": "2e100975-e040-494d-8aa8-dd72d0f9c2fb"
      },
      "outputs": [
        {
          "data": {
            "text/plain": [
              "(<tf.Tensor: shape=(2,), dtype=int32, numpy=array([ 7, 15], dtype=int32)>,\n",
              " <tf.Tensor: shape=(2,), dtype=float32, numpy=array([ 7., 15.], dtype=float32)>,\n",
              " tf.int32,\n",
              " tf.float32)"
            ]
          },
          "execution_count": 17,
          "metadata": {},
          "output_type": "execute_result"
        }
      ],
      "source": [
        "# from int32 to float32\n",
        "C = tf.constant([7,15])\n",
        "E = tf.cast(C, dtype = tf.float32)\n",
        "\n",
        "C, E, C.dtype, E.dtype"
      ]
    },
    {
      "cell_type": "markdown",
      "metadata": {
        "id": "k3fDIqxK3ier"
      },
      "source": [
        "### Aggregating Tensors\n",
        "\n",
        "condensing the tensor from multiple values down to smaller amount values\n"
      ]
    },
    {
      "cell_type": "code",
      "execution_count": 18,
      "metadata": {
        "colab": {
          "base_uri": "https://localhost:8080/"
        },
        "id": "nMza89us3HAj",
        "outputId": "b39052ee-8c3f-4634-d975-e55ad8d58031"
      },
      "outputs": [
        {
          "data": {
            "text/plain": [
              "(<tf.Tensor: shape=(2,), dtype=int32, numpy=array([ -7, -10], dtype=int32)>,\n",
              " <tf.Tensor: shape=(2,), dtype=int32, numpy=array([ 7, 10], dtype=int32)>)"
            ]
          },
          "execution_count": 18,
          "metadata": {},
          "output_type": "execute_result"
        }
      ],
      "source": [
        "# get absolute value\\\n",
        "D = tf.constant([-7,-10])\n",
        "D, tf.abs(D)"
      ]
    },
    {
      "cell_type": "markdown",
      "metadata": {
        "id": "v1PUbAzG38ZJ"
      },
      "source": [
        "Forms of aggregation:\n",
        "* Get minimum\n",
        "* maximum\n",
        "* mean of tensor\n",
        "* sum of Tensor"
      ]
    },
    {
      "cell_type": "code",
      "execution_count": 24,
      "metadata": {
        "colab": {
          "base_uri": "https://localhost:8080/"
        },
        "id": "j-UrwJD433Wi",
        "outputId": "f7cbfc26-f44f-4e56-d018-e33695682784"
      },
      "outputs": [
        {
          "data": {
            "text/plain": [
              "(<tf.Tensor: shape=(50,), dtype=int64, numpy=\n",
              " array([63, 65, 19, 78, 12, 44, 74, 42, 72, 62, 75,  3, 30, 87, 80, 23, 32,\n",
              "        21, 46, 47,  3, 77, 95, 39,  6, 29, 76,  0, 25, 24, 10, 78, 97, 26,\n",
              "        74, 98, 54, 10, 54, 45, 19, 48, 41, 15, 21, 48, 95, 81, 60, 10])>,\n",
              " 1,\n",
              " TensorShape([50]),\n",
              " <tf.Tensor: shape=(), dtype=int32, numpy=50>)"
            ]
          },
          "execution_count": 24,
          "metadata": {},
          "output_type": "execute_result"
        }
      ],
      "source": [
        "random_tensor = tf.constant(np.random.randint(0,100, size=50))\n",
        "random_tensor, random_tensor.ndim, random_tensor.shape, tf.size(random_tensor)"
      ]
    },
    {
      "cell_type": "code",
      "execution_count": 25,
      "metadata": {
        "colab": {
          "base_uri": "https://localhost:8080/"
        },
        "id": "zmMP3rjZ4VcL",
        "outputId": "91f7f2f5-26c3-40a5-a120-b873df032b2f"
      },
      "outputs": [
        {
          "data": {
            "text/plain": [
              "<tf.Tensor: shape=(), dtype=int64, numpy=98>"
            ]
          },
          "execution_count": 25,
          "metadata": {},
          "output_type": "execute_result"
        }
      ],
      "source": [
        "# find muin\n",
        "tf.reduce_max(random_tensor)\n"
      ]
    },
    {
      "cell_type": "code",
      "execution_count": 26,
      "metadata": {
        "colab": {
          "base_uri": "https://localhost:8080/"
        },
        "id": "9veudg2420-N",
        "outputId": "195ab5cc-d386-4e26-c4ee-155253974ac9"
      },
      "outputs": [
        {
          "data": {
            "text/plain": [
              "<tf.Tensor: shape=(), dtype=int64, numpy=46>"
            ]
          },
          "execution_count": 26,
          "metadata": {},
          "output_type": "execute_result"
        }
      ],
      "source": [
        "# find mean\n",
        "tf.reduce_mean(random_tensor)"
      ]
    },
    {
      "cell_type": "code",
      "execution_count": 27,
      "metadata": {
        "colab": {
          "base_uri": "https://localhost:8080/"
        },
        "id": "2-Y2jabf27Gi",
        "outputId": "b004cdc9-fa1d-42ca-f714-6fb865eae9ac"
      },
      "outputs": [
        {
          "data": {
            "text/plain": [
              "<tf.Tensor: shape=(), dtype=int64, numpy=98>"
            ]
          },
          "execution_count": 27,
          "metadata": {},
          "output_type": "execute_result"
        }
      ],
      "source": [
        "# find max\n",
        "tf.reduce_max(random_tensor)"
      ]
    },
    {
      "cell_type": "code",
      "execution_count": 28,
      "metadata": {
        "colab": {
          "base_uri": "https://localhost:8080/"
        },
        "id": "NISPc67j3AS7",
        "outputId": "66b59482-3ab6-4622-a1e9-af3157b6bb38"
      },
      "outputs": [
        {
          "data": {
            "text/plain": [
              "<tf.Tensor: shape=(), dtype=int64, numpy=2333>"
            ]
          },
          "execution_count": 28,
          "metadata": {},
          "output_type": "execute_result"
        }
      ],
      "source": [
        "# find sum\n",
        "tf.reduce_sum(random_tensor)"
      ]
    },
    {
      "cell_type": "code",
      "execution_count": 29,
      "metadata": {
        "colab": {
          "base_uri": "https://localhost:8080/"
        },
        "id": "KGJUOvHK3FJs",
        "outputId": "97f51c13-cb49-4782-8f9e-ed3a1ad14e89"
      },
      "outputs": [
        {
          "data": {
            "text/plain": [
              "<tf.Tensor: shape=(), dtype=int64, numpy=824>"
            ]
          },
          "execution_count": 29,
          "metadata": {},
          "output_type": "execute_result"
        }
      ],
      "source": [
        "# find var - need access to tensor flow prob\n",
        "import tensorflow_probability as tfp\n",
        "tfp.stats.variance(random_tensor)\n"
      ]
    },
    {
      "cell_type": "markdown",
      "metadata": {
        "id": "tNuI1cHS4u9L"
      },
      "source": [
        "### Find the positional max & min of Tensor\n",
        "When get NN prediction probabilities (Representation outputs), this helps to locate the index of values\n"
      ]
    },
    {
      "cell_type": "code",
      "execution_count": 31,
      "metadata": {
        "colab": {
          "base_uri": "https://localhost:8080/"
        },
        "id": "gUhyET3I4aWk",
        "outputId": "a5d0693c-e632-4400-d150-1fe8a2b63e15"
      },
      "outputs": [
        {
          "data": {
            "text/plain": [
              "<tf.Tensor: shape=(50,), dtype=float32, numpy=\n",
              "array([0.6645621 , 0.44100678, 0.3528825 , 0.46448255, 0.03366041,\n",
              "       0.68467236, 0.74011743, 0.8724445 , 0.22632635, 0.22319686,\n",
              "       0.3103881 , 0.7223358 , 0.13318717, 0.5480639 , 0.5746088 ,\n",
              "       0.8996835 , 0.00946367, 0.5212307 , 0.6345445 , 0.1993283 ,\n",
              "       0.72942245, 0.54583454, 0.10756552, 0.6767061 , 0.6602763 ,\n",
              "       0.33695042, 0.60141766, 0.21062577, 0.8527372 , 0.44062173,\n",
              "       0.9485276 , 0.23752594, 0.81179297, 0.5263394 , 0.494308  ,\n",
              "       0.21612847, 0.8457197 , 0.8718841 , 0.3083862 , 0.6868038 ,\n",
              "       0.23764038, 0.7817228 , 0.9671384 , 0.06870162, 0.79873943,\n",
              "       0.66028714, 0.5871513 , 0.16461694, 0.7381023 , 0.32054043],\n",
              "      dtype=float32)>"
            ]
          },
          "execution_count": 31,
          "metadata": {},
          "output_type": "execute_result"
        }
      ],
      "source": [
        "# creating a Random Tensor\n",
        "tf.random.set_seed(42)\n",
        "F = tf.random.uniform(shape = [50])\n",
        "F"
      ]
    },
    {
      "cell_type": "code",
      "execution_count": 34,
      "metadata": {
        "colab": {
          "base_uri": "https://localhost:8080/"
        },
        "id": "pCvppiIH56FD",
        "outputId": "16647134-0432-4783-ff05-520ecbde47ba"
      },
      "outputs": [
        {
          "data": {
            "text/plain": [
              "(<tf.Tensor: shape=(), dtype=int64, numpy=42>,\n",
              " <tf.Tensor: shape=(), dtype=float32, numpy=0.9671384>)"
            ]
          },
          "execution_count": 34,
          "metadata": {},
          "output_type": "execute_result"
        }
      ],
      "source": [
        "# Find the positional max (argmax)\n",
        "tf.argmax(F), F[tf.argmax(F)]              # position, value"
      ]
    },
    {
      "cell_type": "code",
      "execution_count": 35,
      "metadata": {
        "colab": {
          "base_uri": "https://localhost:8080/"
        },
        "id": "jagm6zwh6GXc",
        "outputId": "3dc47044-9e8e-449e-b13d-a2ce6a9e4ddb"
      },
      "outputs": [
        {
          "data": {
            "text/plain": [
              "<tf.Tensor: shape=(), dtype=float32, numpy=0.9671384>"
            ]
          },
          "execution_count": 35,
          "metadata": {},
          "output_type": "execute_result"
        }
      ],
      "source": [
        "# Or for value, we can use the prev method\n",
        "tf.reduce_max(F)"
      ]
    },
    {
      "cell_type": "code",
      "execution_count": 36,
      "metadata": {
        "colab": {
          "base_uri": "https://localhost:8080/"
        },
        "id": "DKRPOLyd6dLi",
        "outputId": "996e1a85-5c13-4e44-dd22-7222f6e92cf2"
      },
      "outputs": [
        {
          "data": {
            "text/plain": [
              "<tf.Tensor: shape=(), dtype=bool, numpy=True>"
            ]
          },
          "execution_count": 36,
          "metadata": {},
          "output_type": "execute_result"
        }
      ],
      "source": [
        "# check if both method return same value:\n",
        "F[tf.argmax(F)]  == tf.reduce_max(F)"
      ]
    },
    {
      "cell_type": "code",
      "execution_count": 37,
      "metadata": {
        "colab": {
          "base_uri": "https://localhost:8080/"
        },
        "id": "BvwAmKSr6mt6",
        "outputId": "db68acbe-d98d-4faf-e553-eb7f9ec3d781"
      },
      "outputs": [
        {
          "data": {
            "text/plain": [
              "(<tf.Tensor: shape=(), dtype=int64, numpy=16>,\n",
              " <tf.Tensor: shape=(), dtype=float32, numpy=0.009463668>)"
            ]
          },
          "execution_count": 37,
          "metadata": {},
          "output_type": "execute_result"
        }
      ],
      "source": [
        "# find the positional min\n",
        "tf.argmin(F), F[tf.argmin(F)]"
      ]
    },
    {
      "cell_type": "markdown",
      "metadata": {
        "id": "VPO_Nn1jYoQw"
      },
      "source": [
        "### Squeezing a Tensor (removing all single dimensions)"
      ]
    },
    {
      "cell_type": "code",
      "execution_count": 3,
      "metadata": {
        "colab": {
          "base_uri": "https://localhost:8080/"
        },
        "id": "FZUySA976zOL",
        "outputId": "815a87d1-9769-4e77-db90-8eb62bd82f9e"
      },
      "outputs": [
        {
          "data": {
            "text/plain": [
              "<tf.Tensor: shape=(1, 1, 2, 1, 25), dtype=float32, numpy=\n",
              "array([[[[[0.6645621 , 0.44100678, 0.3528825 , 0.46448255, 0.03366041,\n",
              "           0.68467236, 0.74011743, 0.8724445 , 0.22632635, 0.22319686,\n",
              "           0.3103881 , 0.7223358 , 0.13318717, 0.5480639 , 0.5746088 ,\n",
              "           0.8996835 , 0.00946367, 0.5212307 , 0.6345445 , 0.1993283 ,\n",
              "           0.72942245, 0.54583454, 0.10756552, 0.6767061 , 0.6602763 ]],\n",
              "\n",
              "         [[0.33695042, 0.60141766, 0.21062577, 0.8527372 , 0.44062173,\n",
              "           0.9485276 , 0.23752594, 0.81179297, 0.5263394 , 0.494308  ,\n",
              "           0.21612847, 0.8457197 , 0.8718841 , 0.3083862 , 0.6868038 ,\n",
              "           0.23764038, 0.7817228 , 0.9671384 , 0.06870162, 0.79873943,\n",
              "           0.66028714, 0.5871513 , 0.16461694, 0.7381023 , 0.32054043]]]]],\n",
              "      dtype=float32)>"
            ]
          },
          "execution_count": 3,
          "metadata": {},
          "output_type": "execute_result"
        }
      ],
      "source": [
        "tf.random.set_seed(42)\n",
        "G = tf.constant(tf.random.uniform(shape = [50]), shape = (1,1,2,1,25) )\n",
        "G"
      ]
    },
    {
      "cell_type": "code",
      "execution_count": 4,
      "metadata": {
        "colab": {
          "base_uri": "https://localhost:8080/"
        },
        "id": "FIaYDy8HZrg4",
        "outputId": "48bcc223-b23e-429f-d260-d1aa180c9869"
      },
      "outputs": [
        {
          "data": {
            "text/plain": [
              "TensorShape([1, 1, 2, 1, 25])"
            ]
          },
          "execution_count": 4,
          "metadata": {},
          "output_type": "execute_result"
        }
      ],
      "source": [
        "G.shape"
      ]
    },
    {
      "cell_type": "code",
      "execution_count": 6,
      "metadata": {
        "colab": {
          "base_uri": "https://localhost:8080/"
        },
        "id": "da7z0pQ0Z98R",
        "outputId": "d4a7a70c-1b81-4228-8343-a3e8906e6a4b"
      },
      "outputs": [
        {
          "data": {
            "text/plain": [
              "(<tf.Tensor: shape=(2, 25), dtype=float32, numpy=\n",
              " array([[0.6645621 , 0.44100678, 0.3528825 , 0.46448255, 0.03366041,\n",
              "         0.68467236, 0.74011743, 0.8724445 , 0.22632635, 0.22319686,\n",
              "         0.3103881 , 0.7223358 , 0.13318717, 0.5480639 , 0.5746088 ,\n",
              "         0.8996835 , 0.00946367, 0.5212307 , 0.6345445 , 0.1993283 ,\n",
              "         0.72942245, 0.54583454, 0.10756552, 0.6767061 , 0.6602763 ],\n",
              "        [0.33695042, 0.60141766, 0.21062577, 0.8527372 , 0.44062173,\n",
              "         0.9485276 , 0.23752594, 0.81179297, 0.5263394 , 0.494308  ,\n",
              "         0.21612847, 0.8457197 , 0.8718841 , 0.3083862 , 0.6868038 ,\n",
              "         0.23764038, 0.7817228 , 0.9671384 , 0.06870162, 0.79873943,\n",
              "         0.66028714, 0.5871513 , 0.16461694, 0.7381023 , 0.32054043]],\n",
              "       dtype=float32)>,\n",
              " TensorShape([2, 25]))"
            ]
          },
          "execution_count": 6,
          "metadata": {},
          "output_type": "execute_result"
        }
      ],
      "source": [
        "G_squeeze = tf.squeeze(G)\n",
        "G_squeeze, G_squeeze.shape         # remove all single dimensions"
      ]
    },
    {
      "cell_type": "markdown",
      "metadata": {
        "id": "zKwl31WmaTxT"
      },
      "source": [
        "### One-hot encoding Tensors\n",
        "It is a way of Numerical encoding. It is imp to Numerically encode all the input data, as model cannot perform if non-numerics given."
      ]
    },
    {
      "cell_type": "code",
      "execution_count": 8,
      "metadata": {
        "colab": {
          "base_uri": "https://localhost:8080/"
        },
        "id": "k8b0nV6daHMw",
        "outputId": "08bbf973-4f5a-4e16-d153-22951badb9e9"
      },
      "outputs": [
        {
          "data": {
            "text/plain": [
              "<tf.Tensor: shape=(5, 5), dtype=float32, numpy=\n",
              "array([[1., 0., 0., 0., 0.],\n",
              "       [0., 1., 0., 0., 0.],\n",
              "       [0., 0., 1., 0., 0.],\n",
              "       [0., 0., 0., 1., 0.],\n",
              "       [0., 0., 0., 0., 1.]], dtype=float32)>"
            ]
          },
          "execution_count": 8,
          "metadata": {},
          "output_type": "execute_result"
        }
      ],
      "source": [
        "# Create a list of indices\n",
        "A = [0,1,2,3,4]\n",
        "\n",
        "# one-hot encode\n",
        "tf.one_hot(A, depth=5)"
      ]
    },
    {
      "cell_type": "code",
      "execution_count": 9,
      "metadata": {
        "colab": {
          "base_uri": "https://localhost:8080/"
        },
        "id": "mfe15LH5bQpQ",
        "outputId": "9ca5a4ec-f595-4869-e54b-87c3f677a790"
      },
      "outputs": [
        {
          "data": {
            "text/plain": [
              "<tf.Tensor: shape=(5, 5), dtype=string, numpy=\n",
              "array([[b'I love Deep Learning', b'I also like to dance',\n",
              "        b'I also like to dance', b'I also like to dance',\n",
              "        b'I also like to dance'],\n",
              "       [b'I also like to dance', b'I love Deep Learning',\n",
              "        b'I also like to dance', b'I also like to dance',\n",
              "        b'I also like to dance'],\n",
              "       [b'I also like to dance', b'I also like to dance',\n",
              "        b'I love Deep Learning', b'I also like to dance',\n",
              "        b'I also like to dance'],\n",
              "       [b'I also like to dance', b'I also like to dance',\n",
              "        b'I also like to dance', b'I love Deep Learning',\n",
              "        b'I also like to dance'],\n",
              "       [b'I also like to dance', b'I also like to dance',\n",
              "        b'I also like to dance', b'I also like to dance',\n",
              "        b'I love Deep Learning']], dtype=object)>"
            ]
          },
          "execution_count": 9,
          "metadata": {},
          "output_type": "execute_result"
        }
      ],
      "source": [
        "# specify custom values for one-hot encoding (fun Ex)\n",
        "tf.one_hot(A, depth =5, on_value=\"I love Deep Learning\", off_value=\"I also like to dance\")\n"
      ]
    },
    {
      "cell_type": "code",
      "execution_count": 11,
      "metadata": {
        "colab": {
          "base_uri": "https://localhost:8080/"
        },
        "id": "KJTQfGMvbv_n",
        "outputId": "035bad93-5ab5-41b8-af39-215de9c4e465"
      },
      "outputs": [
        {
          "data": {
            "text/plain": [
              "<tf.Tensor: shape=(5, 5), dtype=float32, numpy=\n",
              "array([[2. , 0.5, 0.5, 0.5, 0.5],\n",
              "       [0.5, 2. , 0.5, 0.5, 0.5],\n",
              "       [0.5, 0.5, 2. , 0.5, 0.5],\n",
              "       [0.5, 0.5, 0.5, 2. , 0.5],\n",
              "       [0.5, 0.5, 0.5, 0.5, 2. ]], dtype=float32)>"
            ]
          },
          "execution_count": 11,
          "metadata": {},
          "output_type": "execute_result"
        }
      ],
      "source": [
        "tf.one_hot(A, depth =5, on_value=2.0, off_value=0.5)"
      ]
    },
    {
      "cell_type": "markdown",
      "metadata": {
        "id": "oretHRLRc8JR"
      },
      "source": [
        "### Tensors & Numpy\n"
      ]
    },
    {
      "cell_type": "code",
      "execution_count": null,
      "metadata": {
        "id": "W68W-2L-cCOI"
      },
      "outputs": [],
      "source": []
    }
  ],
  "metadata": {
    "colab": {
      "provenance": []
    },
    "kernelspec": {
      "display_name": "Python 3",
      "name": "python3"
    },
    "language_info": {
      "name": "python"
    }
  },
  "nbformat": 4,
  "nbformat_minor": 0
}
